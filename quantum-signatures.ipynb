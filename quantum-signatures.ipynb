{
 "cells": [
  {
   "cell_type": "markdown",
   "metadata": {},
   "source": [
    "<center><h1>Quantum Signatures for Secure Encryption</h1></center>\n",
    "<center>Brian Otieno¹</center>\n",
    "\n",
    "### Affiliations\n",
    " 1.  [Nairobi Quantum Hub ](https://www.linkedin.com/company/nairobi-quantum-hub) \n",
    "\n",
    "## Abstract\n",
    "Quantum signatures offer a novel approach to secure encryption by leveraging quantum mechanics and complex geometric structures. The proposed algorithm operates within a Cartesian plane ranging from -1 billion to 1 billion, where a drawable canvas serves as the foundation for creating a unique digital signature. The user draws their signature on this plane, and from the resulting path, a set of random numbers is generated.\n",
    "\n",
    "## Mathematical Formulation for Quantum Signatures\n",
    "The algorithm for quantum signatures involves several key mathematical components, particularly in the generation and transformation of the private and public keys. The following sections outline the necessary mathematical formulations, including those for gate rotations.\n",
    "\n",
    "### 1. Private Key Extraction\n",
    "\n",
    "Given a signature path on a Cartesian plane $(x_i, y_i)$ for $i = 1, 2, \\ldots, N$, where $N$ is the number of points in the signature:\n",
    "\n",
    "#### Random Number Generation:\n",
    "\n",
    "- Extract 10,000 random points $(x_{pi}, y_{pi})$ from the signature path.\n",
    "- The private key $K_{\\text{private}}$ is represented as a vector:\n",
    "\n",
    "$$\n",
    "K_{\\text{private}} = \\{(x_{p1}, y_{p1}), (x_{p2}, y_{p2}), \\ldots, (x_{p10000}, y_{p10000})\\}\n",
    "$$\n",
    "\n",
    "### 2. Public Key Extraction\n",
    "\n",
    "- Extract 100 random points $(x_{qi}, y_{qi})$ from the signature path, similar to the private key but smaller in number:\n",
    "\n",
    "$$\n",
    "K_{\\text{public}} = \\{(x_{q1}, y_{q1}), (x_{q2}, y_{q2}), \\ldots, (x_{q100}, y_{q100})\\}\n",
    "$$\n",
    "\n",
    "### 3. Quantum Superposition and Gate Rotations\n",
    "\n",
    "#### Quantum State Representation:\n",
    "\n",
    "- The private key can be encoded into a quantum state $|\\psi_{\\text{private}}\\rangle$ in a Hilbert space. Each point $(x_{pi}, y_{pi})$ corresponds to a qubit state:\n",
    "\n",
    "\n",
    "$$\n",
    "|\\psi_{\\text{private}}\\rangle = \\bigotimes_{k=1}^{10000} (\\alpha_k |0\\rangle + \\beta_k |1\\rangle)\n",
    "$$\n",
    "\n",
    "- Here, $\\alpha_k$ and $\\beta_k$ are complex coefficients derived from the $x_{pk}$ and $y_{pk}$ values, with normalization $|\\alpha_k|^2 + |\\beta_k|^2 = 1$.\n",
    "\n",
    "#### Superposition:\n",
    "\n",
    "- The private key state is placed into superposition:\n",
    "\n",
    "$$\n",
    "|\\psi_{\\text{superposition}}\\rangle = \\frac{1}{\\sqrt{2}} \\left( |\\psi_{\\text{private}}\\rangle + |\\psi_{\\text{transformed}}\\rangle \\right)\n",
    "$$\n",
    "\n",
    "- The state $|\\psi_{\\text{transformed}}\\rangle$ represents the quantum state after applying transformations.\n",
    "\n",
    "\n",
    "### 4. Quantum Gate Rotations\n",
    "\n",
    "#### Rotation Gate\n",
    "\n",
    "- Apply a rotation gate $R_{\\theta}$ to each qubit, where $\\theta$ is determined by the corresponding $(x_{p_k}, y_{p_k})$ values:\n",
    "  $$\n",
    "  R_{\\theta} = \\begin{pmatrix}\n",
    "  \\cos\\frac{\\theta}{2} & -\\sin\\frac{\\theta}{2} \\\\\n",
    "  \\sin\\frac{\\theta}{2} & \\cos\\frac{\\theta}{2}\n",
    "  \\end{pmatrix}\n",
    "  $$\n",
    "- The angle $\\theta_k$  for each qubit is given by:\n",
    "  $$\n",
    "  \\theta_k = \\arctan\\left(\\frac{y_{p_k}}{x_{p_k}}\\right)\n",
    "  $$\n",
    "\n",
    "#### Hadamard Gate\n",
    "\n",
    "- Optionally, a Hadamard gate \\(H\\) can be applied to create an equal superposition:\n",
    "  $$\n",
    "  H = \\frac{1}{\\sqrt{2}} \\begin{pmatrix}\n",
    "  1 & 1 \\\\\n",
    "  1 & -1\n",
    "  \\end{pmatrix}\n",
    "  $$\n",
    "\n",
    "### 5. Decryption Condition\n",
    "\n",
    "#### Comparison\n",
    "\n",
    "- The quantum state $|\\psi_{\\text{transformed}}\\rangle$ resulting from gate operations is measured, and the measured outcomes $K_{\\text{measured}}$ are compared with the public key $K_{\\text{public}}$.\n",
    "- Decryption is successful if:\n",
    "  $$\n",
    "  K_{\\text{public}} \\subseteq K_{\\text{measured}}\n",
    "  $$\n",
    "- Mathematically, this implies:\n",
    "  $$\n",
    "  \\text{Decrypt} = \\begin{cases}\n",
    "  1, & \\text{if } K_{\\text{public}} \\subseteq K_{\\text{measured}} \\\\\n",
    "  0, & \\text{otherwise}\n",
    "  \\end{cases}\n",
    "  $$"
   ]
  },
  {
   "cell_type": "code",
   "execution_count": 1,
   "metadata": {},
   "outputs": [],
   "source": [
    "# Import libraries\n",
    "from qiskit import QuantumCircuit, transpile, assemble\n",
    "from qiskit.visualization import plot_histogram, plot_bloch_multivector\n",
    "from qiskit.quantum_info import Statevector\n",
    "from qiskit_aer import AerSimulator\n",
    "import numpy as np\n",
    "import matplotlib.pyplot as plt\n",
    "\n",
    "%matplotlib inline\n",
    "\n",
    "import warnings\n",
    "warnings.filterwarnings('ignore')"
   ]
  },
  {
   "cell_type": "code",
   "execution_count": 2,
   "metadata": {},
   "outputs": [],
   "source": [
    "# Simulator setup\n",
    "simulator = AerSimulator()"
   ]
  },
  {
   "cell_type": "code",
   "execution_count": 3,
   "metadata": {},
   "outputs": [],
   "source": [
    "# Constants\n",
    "NUM_PRIVATE_POINTS = 10000\n",
    "NUM_PUBLIC_POINTS = 100\n",
    "NUM_QUBITS = NUM_PRIVATE_POINTS"
   ]
  },
  {
   "cell_type": "code",
   "execution_count": 4,
   "metadata": {},
   "outputs": [],
   "source": [
    "# Simulate the drawing of a signature as a path in a 2D space\n",
    "np.random.seed(42)  # For reproducibility\n",
    "x_coords = np.random.uniform(-1e9, 1e9, NUM_PRIVATE_POINTS)\n",
    "y_coords = np.random.uniform(-1e9, 1e9, NUM_PRIVATE_POINTS)"
   ]
  },
  {
   "cell_type": "code",
   "execution_count": 5,
   "metadata": {},
   "outputs": [],
   "source": [
    "# Extract the private and public keys from the signature path\n",
    "private_key = list(zip(x_coords, y_coords))\n",
    "public_key_indices = np.random.choice(range(NUM_PRIVATE_POINTS), NUM_PUBLIC_POINTS, replace=False)\n",
    "public_key = [private_key[i] for i in public_key_indices]"
   ]
  },
  {
   "cell_type": "code",
   "execution_count": 6,
   "metadata": {},
   "outputs": [],
   "source": [
    "# Initialize a quantum circuit with qubits corresponding to the private key\n",
    "qc = QuantumCircuit(NUM_QUBITS)"
   ]
  },
  {
   "cell_type": "code",
   "execution_count": 7,
   "metadata": {},
   "outputs": [
    {
     "data": {
      "text/plain": [
       "<qiskit.circuit.instructionset.InstructionSet at 0x1175f40a0>"
      ]
     },
     "execution_count": 7,
     "metadata": {},
     "output_type": "execute_result"
    }
   ],
   "source": [
    "# Apply Hadamard gate to create superposition state\n",
    "qc.h(range(NUM_QUBITS))"
   ]
  },
  {
   "cell_type": "code",
   "execution_count": 8,
   "metadata": {},
   "outputs": [],
   "source": [
    "# Apply rotation gates to qubits based on (x, y) coordinates (signature path)\n",
    "for i in range(NUM_QUBITS):\n",
    "    theta = np.arctan2(y_coords[i], x_coords[i])\n",
    "    qc.ry(theta, i)"
   ]
  },
  {
   "cell_type": "code",
   "execution_count": 9,
   "metadata": {},
   "outputs": [],
   "source": [
    "# Create a new circuit for the first 5 qubits. \n",
    "sub_qc = QuantumCircuit(5)"
   ]
  },
  {
   "cell_type": "code",
   "execution_count": 10,
   "metadata": {},
   "outputs": [],
   "source": [
    "# Copy the relevant operations from the original circuit to the new one\n",
    "for instr, qargs, cargs in qc.data:\n",
    "    qubit_indices = [qc.qubits.index(qbit) for qbit in qargs]\n",
    "    if all(index < 5 for index in qubit_indices):\n",
    "        sub_qc.append(instr, [sub_qc.qubits[index] for index in qubit_indices], cargs)"
   ]
  },
  {
   "cell_type": "code",
   "execution_count": 12,
   "metadata": {},
   "outputs": [
    {
     "data": {
      "image/png": "[encoded data removed]",
      "text/plain": [
       "<Figure size 287.496x451.5 with 1 Axes>"
      ]
     },
     "metadata": {},
     "output_type": "display_data"
    }
   ],
   "source": [
    "# Visualize the subsetted qubits\n",
    "sub_qc.draw('mpl')\n",
    "plt.show()"
   ]
  }
 ],
 "metadata": {
  "kernelspec": {
   "display_name": "qiskit",
   "language": "python",
   "name": "python3"
  },
  "language_info": {
   "codemirror_mode": {
    "name": "ipython",
    "version": 3
   },
   "file_extension": ".py",
   "mimetype": "text/x-python",
   "name": "python",
   "nbconvert_exporter": "python",
   "pygments_lexer": "ipython3",
   "version": "3.12.4"
  }
 },
 "nbformat": 4,
 "nbformat_minor": 2
}
